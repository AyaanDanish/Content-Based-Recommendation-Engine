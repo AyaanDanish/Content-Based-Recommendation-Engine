{
 "cells": [
  {
   "cell_type": "code",
   "execution_count": 1,
   "metadata": {},
   "outputs": [],
   "source": [
    "import pandas as pd\n",
    "import numpy as np"
   ]
  },
  {
   "cell_type": "code",
   "execution_count": 2,
   "metadata": {},
   "outputs": [
    {
     "data": {
      "text/html": [
       "<div>\n",
       "<style scoped>\n",
       "    .dataframe tbody tr th:only-of-type {\n",
       "        vertical-align: middle;\n",
       "    }\n",
       "\n",
       "    .dataframe tbody tr th {\n",
       "        vertical-align: top;\n",
       "    }\n",
       "\n",
       "    .dataframe thead th {\n",
       "        text-align: right;\n",
       "    }\n",
       "</style>\n",
       "<table border=\"1\" class=\"dataframe\">\n",
       "  <thead>\n",
       "    <tr style=\"text-align: right;\">\n",
       "      <th></th>\n",
       "      <th>movieId</th>\n",
       "      <th>title</th>\n",
       "      <th>genres</th>\n",
       "    </tr>\n",
       "  </thead>\n",
       "  <tbody>\n",
       "    <tr>\n",
       "      <th>0</th>\n",
       "      <td>1</td>\n",
       "      <td>Toy Story (1995)</td>\n",
       "      <td>Adventure|Animation|Children|Comedy|Fantasy</td>\n",
       "    </tr>\n",
       "    <tr>\n",
       "      <th>1</th>\n",
       "      <td>2</td>\n",
       "      <td>Jumanji (1995)</td>\n",
       "      <td>Adventure|Children|Fantasy</td>\n",
       "    </tr>\n",
       "    <tr>\n",
       "      <th>2</th>\n",
       "      <td>3</td>\n",
       "      <td>Grumpier Old Men (1995)</td>\n",
       "      <td>Comedy|Romance</td>\n",
       "    </tr>\n",
       "    <tr>\n",
       "      <th>3</th>\n",
       "      <td>4</td>\n",
       "      <td>Waiting to Exhale (1995)</td>\n",
       "      <td>Comedy|Drama|Romance</td>\n",
       "    </tr>\n",
       "    <tr>\n",
       "      <th>4</th>\n",
       "      <td>5</td>\n",
       "      <td>Father of the Bride Part II (1995)</td>\n",
       "      <td>Comedy</td>\n",
       "    </tr>\n",
       "  </tbody>\n",
       "</table>\n",
       "</div>"
      ],
      "text/plain": [
       "   movieId                               title  \\\n",
       "0        1                    Toy Story (1995)   \n",
       "1        2                      Jumanji (1995)   \n",
       "2        3             Grumpier Old Men (1995)   \n",
       "3        4            Waiting to Exhale (1995)   \n",
       "4        5  Father of the Bride Part II (1995)   \n",
       "\n",
       "                                        genres  \n",
       "0  Adventure|Animation|Children|Comedy|Fantasy  \n",
       "1                   Adventure|Children|Fantasy  \n",
       "2                               Comedy|Romance  \n",
       "3                         Comedy|Drama|Romance  \n",
       "4                                       Comedy  "
      ]
     },
     "execution_count": 2,
     "metadata": {},
     "output_type": "execute_result"
    }
   ],
   "source": [
    "df = pd.read_csv('ml-latest-small/movies.csv')\n",
    "df.head()"
   ]
  },
  {
   "cell_type": "code",
   "execution_count": 3,
   "metadata": {},
   "outputs": [
    {
     "name": "stdout",
     "output_type": "stream",
     "text": [
      "To start, we'll need the IDs of your top 3 rated movies as well as the ratings you'd give them.\n"
     ]
    }
   ],
   "source": [
    "top_user_movies = []\n",
    "\n",
    "print(\"To start, we'll need the IDs of your top 3 rated movies as well as the ratings you'd give them.\")\n",
    "\n",
    "try:\n",
    "    movie_id_list = input(\"Please enter the IDs of your top 3 rated movies (separated by space): \").split(' ')\n",
    "    movie_id_list = [int(item) for item in movie_id_list]\n",
    "    if any(movie not in df['movieId'].values for movie in movie_id_list):\n",
    "        raise ValueError(\"That movie ID doesn't exist!\")\n",
    "    if len(movie_id_list) != 3:\n",
    "        raise ValueError('There must be exactly 3 movie IDs!')\n",
    "    \n",
    "except ValueError as err:\n",
    "    print(f'\\n\\x1b[31m{err} Please enter the IDs again, separated by a space.\\x1b[0m')\n",
    "except:\n",
    "    print('\\n\\x1b[31mInvalid format! Please enter the IDs again, separated by a space.\\x1b[0m')\n",
    "\n",
    "try:\n",
    "    movie_ratings_list = input(\"Please enter the ratings out of 10 for each of your movies (separated by space): \").split(' ')\n",
    "    movie_ratings_list = [int(item) for item in movie_ratings_list]\n",
    "    if any(rating > 10 or rating < 1 for rating in movie_ratings_list):\n",
    "        raise ValueError('Ratings must be from 1 to 10!')\n",
    "    if len(movie_ratings_list) != 3:\n",
    "        raise ValueError('There must be exactly 3 ratings!')\n",
    "    \n",
    "except ValueError as err:\n",
    "    print(f'\\n\\x1b[31m{err} Please enter the ratings again, separated by a space.\\x1b[0m')\n",
    "except:\n",
    "    print('\\n\\x1b[31mInvalid format! Please enter the ratings again, separated by a space.\\x1b[0m')\n",
    "\n",
    "top_user_movies.extend({'movie_id': movie_id, 'movie_title': df[df['movieId'] == movie_id]['title'].iloc[0], 'rating': rating} for movie_id, rating in list(zip(movie_id_list, movie_ratings_list)))"
   ]
  },
  {
   "cell_type": "code",
   "execution_count": 4,
   "metadata": {},
   "outputs": [
    {
     "name": "stdout",
     "output_type": "stream",
     "text": [
      "\u001b[33m\n",
      "\t\t----------------------Your Top 3 Movies----------------------\u001b[0m\n",
      "\u001b[32mID:\u001b[0m 1       \u001b[32mTitle:\u001b[0m Toy Story (1995)                                            \u001b[32mYour Rating:\u001b[0m 7/10\n",
      "\u001b[32mID:\u001b[0m 2       \u001b[32mTitle:\u001b[0m Jumanji (1995)                                              \u001b[32mYour Rating:\u001b[0m 8/10\n",
      "\u001b[32mID:\u001b[0m 3       \u001b[32mTitle:\u001b[0m Grumpier Old Men (1995)                                     \u001b[32mYour Rating:\u001b[0m 9/10\n"
     ]
    }
   ],
   "source": [
    "print('\\x1b[33m\\n\\t\\t----------------------Your Top 3 Movies----------------------\\x1b[0m')\n",
    "for item in top_user_movies:\n",
    "    print(f\"\\x1b[32mID:\\x1b[0m {item['movie_id']:<8}\\x1b[32mTitle:\\x1b[0m {item['movie_title']:<60}\\x1b[32mYour Rating:\\x1b[0m {item['rating']}/10\")"
   ]
  },
  {
   "cell_type": "code",
   "execution_count": 5,
   "metadata": {},
   "outputs": [
    {
     "data": {
      "text/plain": [
       "['Adventure', 'Fantasy', 'Comedy', 'Animation', 'Children', 'Romance']"
      ]
     },
     "execution_count": 5,
     "metadata": {},
     "output_type": "execute_result"
    }
   ],
   "source": [
    "top_movie_genres = set()\n",
    "\n",
    "for item in top_user_movies:\n",
    "    top_movie_genres.update(genre for genre in df[df['movieId'] == item['movie_id']]['genres'].iloc[0].split('|'))\n",
    "\n",
    "top_movie_genres = list(top_movie_genres)\n",
    "top_movie_genres"
   ]
  },
  {
   "cell_type": "code",
   "execution_count": 6,
   "metadata": {},
   "outputs": [],
   "source": [
    "rated_movies_one_hot_matrix = {}\n",
    "\n",
    "for movie_id in movie_id_list:\n",
    "    movie_genres = df[df['movieId'] == movie_id]['genres'].iloc[0].split('|')\n",
    "    rated_movies_one_hot_matrix[movie_id] = np.array([1 if genre in movie_genres else 0 for genre in top_movie_genres])\n"
   ]
  },
  {
   "cell_type": "code",
   "execution_count": 7,
   "metadata": {},
   "outputs": [],
   "source": [
    "rated_movies_matrix = []\n",
    "for one_hot, rating in zip(rated_movies_one_hot_matrix.values(), movie_ratings_list):\n",
    "    rated_movies_matrix.append([item * rating for item in one_hot])\n",
    "\n",
    "rated_movies_matrix = np.array(rated_movies_matrix)"
   ]
  },
  {
   "cell_type": "code",
   "execution_count": 8,
   "metadata": {},
   "outputs": [
    {
     "data": {
      "text/plain": [
       "array([0.19480519, 0.19480519, 0.20779221, 0.09090909, 0.19480519,\n",
       "       0.11688312])"
      ]
     },
     "execution_count": 8,
     "metadata": {},
     "output_type": "execute_result"
    }
   ],
   "source": [
    "user_profile = np.array([item/rated_movies_matrix.sum() for item in rated_movies_matrix.sum(axis=0)])\n",
    "user_profile"
   ]
  },
  {
   "cell_type": "code",
   "execution_count": 9,
   "metadata": {},
   "outputs": [
    {
     "data": {
      "text/html": [
       "<div>\n",
       "<style scoped>\n",
       "    .dataframe tbody tr th:only-of-type {\n",
       "        vertical-align: middle;\n",
       "    }\n",
       "\n",
       "    .dataframe tbody tr th {\n",
       "        vertical-align: top;\n",
       "    }\n",
       "\n",
       "    .dataframe thead th {\n",
       "        text-align: right;\n",
       "    }\n",
       "</style>\n",
       "<table border=\"1\" class=\"dataframe\">\n",
       "  <thead>\n",
       "    <tr style=\"text-align: right;\">\n",
       "      <th></th>\n",
       "      <th>movieId</th>\n",
       "      <th>title</th>\n",
       "      <th>genres</th>\n",
       "    </tr>\n",
       "  </thead>\n",
       "  <tbody>\n",
       "    <tr>\n",
       "      <th>3</th>\n",
       "      <td>4</td>\n",
       "      <td>Waiting to Exhale (1995)</td>\n",
       "      <td>Comedy|Drama|Romance</td>\n",
       "    </tr>\n",
       "    <tr>\n",
       "      <th>4</th>\n",
       "      <td>5</td>\n",
       "      <td>Father of the Bride Part II (1995)</td>\n",
       "      <td>Comedy</td>\n",
       "    </tr>\n",
       "    <tr>\n",
       "      <th>5</th>\n",
       "      <td>6</td>\n",
       "      <td>Heat (1995)</td>\n",
       "      <td>Action|Crime|Thriller</td>\n",
       "    </tr>\n",
       "    <tr>\n",
       "      <th>6</th>\n",
       "      <td>7</td>\n",
       "      <td>Sabrina (1995)</td>\n",
       "      <td>Comedy|Romance</td>\n",
       "    </tr>\n",
       "    <tr>\n",
       "      <th>7</th>\n",
       "      <td>8</td>\n",
       "      <td>Tom and Huck (1995)</td>\n",
       "      <td>Adventure|Children</td>\n",
       "    </tr>\n",
       "  </tbody>\n",
       "</table>\n",
       "</div>"
      ],
      "text/plain": [
       "   movieId                               title                 genres\n",
       "3        4            Waiting to Exhale (1995)   Comedy|Drama|Romance\n",
       "4        5  Father of the Bride Part II (1995)                 Comedy\n",
       "5        6                         Heat (1995)  Action|Crime|Thriller\n",
       "6        7                      Sabrina (1995)         Comedy|Romance\n",
       "7        8                 Tom and Huck (1995)     Adventure|Children"
      ]
     },
     "execution_count": 9,
     "metadata": {},
     "output_type": "execute_result"
    }
   ],
   "source": [
    "mask = df['movieId'].isin(movie_id_list)\n",
    "\n",
    "unrated_df = df[~mask]\n",
    "unrated_df.head()"
   ]
  },
  {
   "cell_type": "code",
   "execution_count": 10,
   "metadata": {},
   "outputs": [],
   "source": [
    "unrated_movies_one_hot_matrix = {}\n",
    "\n",
    "for movie_id in unrated_df['movieId']:\n",
    "    movie_genres = df[df['movieId'] == movie_id]['genres'].iloc[0].split('|')\n",
    "    unrated_movies_one_hot_matrix[movie_id] = np.array([1 if genre in movie_genres else 0 for genre in top_movie_genres])\n"
   ]
  },
  {
   "cell_type": "code",
   "execution_count": 11,
   "metadata": {},
   "outputs": [],
   "source": [
    "unrated_movies_matrix = {}\n",
    "\n",
    "for movie_id, one_hot in unrated_movies_one_hot_matrix.items():\n",
    "    one_hot = np.array(one_hot)\n",
    "    unrated_movies_matrix[movie_id] = one_hot * user_profile\n"
   ]
  },
  {
   "cell_type": "code",
   "execution_count": 12,
   "metadata": {},
   "outputs": [],
   "source": [
    "predicted_rating_list = {}\n",
    "for movie_id, movie_weights in unrated_movies_matrix.items():\n",
    "    predicted_rating_list[movie_id] = round(movie_weights.sum()*10, 1)\n"
   ]
  },
  {
   "cell_type": "code",
   "execution_count": 13,
   "metadata": {},
   "outputs": [],
   "source": [
    "sorted_dict = dict(sorted(predicted_rating_list.items(), key=lambda item: item[1], reverse=True))\n",
    "recommended_movies = dict(list(sorted_dict.items())[:5])"
   ]
  },
  {
   "cell_type": "code",
   "execution_count": 14,
   "metadata": {},
   "outputs": [
    {
     "data": {
      "text/html": [
       "<div>\n",
       "<style scoped>\n",
       "    .dataframe tbody tr th:only-of-type {\n",
       "        vertical-align: middle;\n",
       "    }\n",
       "\n",
       "    .dataframe tbody tr th {\n",
       "        vertical-align: top;\n",
       "    }\n",
       "\n",
       "    .dataframe thead th {\n",
       "        text-align: right;\n",
       "    }\n",
       "</style>\n",
       "<table border=\"1\" class=\"dataframe\">\n",
       "  <thead>\n",
       "    <tr style=\"text-align: right;\">\n",
       "      <th></th>\n",
       "      <th>movieId</th>\n",
       "      <th>title</th>\n",
       "      <th>genres</th>\n",
       "      <th>predicted_rating</th>\n",
       "    </tr>\n",
       "  </thead>\n",
       "  <tbody>\n",
       "    <tr>\n",
       "      <th>3194</th>\n",
       "      <td>4306</td>\n",
       "      <td>Shrek (2001)</td>\n",
       "      <td>Adventure|Animation|Children|Comedy|Fantasy|Ro...</td>\n",
       "      <td>10.0</td>\n",
       "    </tr>\n",
       "    <tr>\n",
       "      <th>6626</th>\n",
       "      <td>56152</td>\n",
       "      <td>Enchanted (2007)</td>\n",
       "      <td>Adventure|Animation|Children|Comedy|Fantasy|Mu...</td>\n",
       "      <td>10.0</td>\n",
       "    </tr>\n",
       "    <tr>\n",
       "      <th>7530</th>\n",
       "      <td>84637</td>\n",
       "      <td>Gnomeo &amp; Juliet (2011)</td>\n",
       "      <td>Adventure|Animation|Children|Comedy|Fantasy|Ro...</td>\n",
       "      <td>10.0</td>\n",
       "    </tr>\n",
       "    <tr>\n",
       "      <th>7805</th>\n",
       "      <td>92348</td>\n",
       "      <td>Puss in Boots (Nagagutsu o haita neko) (1969)</td>\n",
       "      <td>Adventure|Animation|Children|Comedy|Fantasy|Ro...</td>\n",
       "      <td>10.0</td>\n",
       "    </tr>\n",
       "    <tr>\n",
       "      <th>222</th>\n",
       "      <td>258</td>\n",
       "      <td>Kid in King Arthur's Court, A (1995)</td>\n",
       "      <td>Adventure|Children|Comedy|Fantasy|Romance</td>\n",
       "      <td>9.1</td>\n",
       "    </tr>\n",
       "  </tbody>\n",
       "</table>\n",
       "</div>"
      ],
      "text/plain": [
       "      movieId                                          title  \\\n",
       "3194     4306                                   Shrek (2001)   \n",
       "6626    56152                               Enchanted (2007)   \n",
       "7530    84637                         Gnomeo & Juliet (2011)   \n",
       "7805    92348  Puss in Boots (Nagagutsu o haita neko) (1969)   \n",
       "222       258           Kid in King Arthur's Court, A (1995)   \n",
       "\n",
       "                                                 genres  predicted_rating  \n",
       "3194  Adventure|Animation|Children|Comedy|Fantasy|Ro...              10.0  \n",
       "6626  Adventure|Animation|Children|Comedy|Fantasy|Mu...              10.0  \n",
       "7530  Adventure|Animation|Children|Comedy|Fantasy|Ro...              10.0  \n",
       "7805  Adventure|Animation|Children|Comedy|Fantasy|Ro...              10.0  \n",
       "222           Adventure|Children|Comedy|Fantasy|Romance               9.1  "
      ]
     },
     "execution_count": 14,
     "metadata": {},
     "output_type": "execute_result"
    }
   ],
   "source": [
    "recommendation_df = df[df['movieId'].isin(list(recommended_movies.keys()))].copy()\n",
    "recommendation_df.loc[:, 'predicted_rating'] = recommendation_df['movieId'].map(recommended_movies)\n",
    "\n",
    "recommendation_df = recommendation_df.sort_values(by='predicted_rating', ascending=False)\n",
    "recommendation_df"
   ]
  }
 ],
 "metadata": {
  "kernelspec": {
   "display_name": "Python 3",
   "language": "python",
   "name": "python3"
  },
  "language_info": {
   "codemirror_mode": {
    "name": "ipython",
    "version": 3
   },
   "file_extension": ".py",
   "mimetype": "text/x-python",
   "name": "python",
   "nbconvert_exporter": "python",
   "pygments_lexer": "ipython3",
   "version": "3.11.5"
  }
 },
 "nbformat": 4,
 "nbformat_minor": 2
}
